{
 "cells": [
  {
   "cell_type": "code",
   "execution_count": 56,
   "id": "c4e62d7a-2abb-45f5-bf1b-ee892befe3d7",
   "metadata": {},
   "outputs": [],
   "source": [
    "from selenium import webdriver\n",
    "import requests\n",
    "from string import ascii_lowercase\n",
    "import time\n",
    "from bs4 import BeautifulSoup"
   ]
  },
  {
   "cell_type": "code",
   "execution_count": 2,
   "id": "427a729d-f6cf-43fb-8a9f-9fb08e9e9dd2",
   "metadata": {},
   "outputs": [],
   "source": [
    "path = \"C:/Development/chromedriver.exe\""
   ]
  },
  {
   "cell_type": "code",
   "execution_count": 8,
   "id": "776f3a07-973c-4fd2-9150-5771d832b599",
   "metadata": {},
   "outputs": [],
   "source": [
    "url =  \"https://scrabble.merriam.com/words/start-with/{letter}\""
   ]
  },
  {
   "cell_type": "code",
   "execution_count": 14,
   "id": "9d89cb40-9f85-45f0-8454-78846fa7ae09",
   "metadata": {},
   "outputs": [],
   "source": [
    "driver = webdriver.Chrome(path)\n",
    "\n"
   ]
  },
  {
   "cell_type": "code",
   "execution_count": 63,
   "id": "5be8eddc-99cb-4ddd-812a-5bf38e4d9079",
   "metadata": {},
   "outputs": [],
   "source": [
    "letter_to_words = {}"
   ]
  },
  {
   "cell_type": "code",
   "execution_count": 70,
   "id": "7e86689f-e7d9-4e79-bd42-06dc7f9d9aa8",
   "metadata": {},
   "outputs": [],
   "source": [
    "driver = webdriver.Chrome(path)\n",
    "\n",
    "for letter in 'xyz':\n",
    "    letter_url = url.format(letter=letter)\n",
    "    driver.get(letter_url)\n",
    "   \n",
    "    #driver.execute_script(\"window.scrollTo(0, document.body.scrollHeight/2);\")\n",
    "    area = driver.find_elements_by_css_selector('div.sbl_word_group')[3]\n",
    "    try:\n",
    "        elem = area.find_element_by_class_name('fa-plus-square-o')\n",
    "        elem.click()\n",
    "        time.sleep(2)\n",
    "    except:\n",
    "        pass\n",
    "    try:\n",
    "        button = area.find_element_by_css_selector('button.sbl_load_all')\n",
    "        button.click()\n",
    "        time.sleep(2)\n",
    "    except:\n",
    "        pass\n",
    "    elements = area.find_elements_by_tag_name('li')\n",
    "    words = [element.text for element in elements]\n",
    "    letter_to_words[letter] = words\n"
   ]
  },
  {
   "cell_type": "code",
   "execution_count": 16,
   "id": "dfbdd15d-9f24-4989-9673-67fa0290d357",
   "metadata": {},
   "outputs": [
    {
     "data": {
      "text/plain": [
       "'https://scrabble.merriam.com/words/start-with/a'"
      ]
     },
     "execution_count": 16,
     "metadata": {},
     "output_type": "execute_result"
    }
   ],
   "source": [
    "url.format(letter='a')"
   ]
  },
  {
   "cell_type": "code",
   "execution_count": 73,
   "id": "48390b56-0a60-493f-8b15-c0461020c46f",
   "metadata": {},
   "outputs": [],
   "source": [
    "import pickle"
   ]
  },
  {
   "cell_type": "code",
   "execution_count": 74,
   "id": "3ebd6ba9-380a-49fa-b7d8-30720a6a77d9",
   "metadata": {},
   "outputs": [],
   "source": [
    "pickle.dump(letter_to_words,open('letter_to_words.pkl','wb'))"
   ]
  },
  {
   "cell_type": "code",
   "execution_count": 75,
   "id": "2ce06824-2b26-4740-99ce-d7736df22088",
   "metadata": {},
   "outputs": [
    {
     "data": {
      "text/plain": [
       "['zaida',\n",
       " 'zaidy',\n",
       " 'zaire',\n",
       " 'zakat',\n",
       " 'zamia',\n",
       " 'zanza',\n",
       " 'zappy',\n",
       " 'zarfs',\n",
       " 'zaxes',\n",
       " 'zayin',\n",
       " 'zazen',\n",
       " 'zeals',\n",
       " 'zebec',\n",
       " 'zebra',\n",
       " 'zebus',\n",
       " 'zedas',\n",
       " 'zeins',\n",
       " 'zendo',\n",
       " 'zerks',\n",
       " 'zeros',\n",
       " 'zests',\n",
       " 'zesty',\n",
       " 'zetas',\n",
       " 'zibet',\n",
       " 'zilch',\n",
       " 'zills',\n",
       " 'zinco',\n",
       " 'zincs',\n",
       " 'zincy',\n",
       " 'zineb',\n",
       " 'zines',\n",
       " 'zings',\n",
       " 'zingy',\n",
       " 'zinky',\n",
       " 'zippo',\n",
       " 'zippy',\n",
       " 'ziram',\n",
       " 'zitis',\n",
       " 'zizit',\n",
       " 'zlote',\n",
       " 'zloty',\n",
       " 'zoeae',\n",
       " 'zoeal',\n",
       " 'zoeas',\n",
       " 'zombi',\n",
       " 'zonae',\n",
       " 'zonal',\n",
       " 'zoned',\n",
       " 'zoner',\n",
       " 'zones',\n",
       " 'zonks',\n",
       " 'zooey',\n",
       " 'zooid',\n",
       " 'zooks',\n",
       " 'zooms',\n",
       " 'zoons',\n",
       " 'zooty',\n",
       " 'zoril',\n",
       " 'zoris',\n",
       " 'zouks',\n",
       " 'zowee',\n",
       " 'zowie',\n",
       " 'zuppa',\n",
       " 'zuzim',\n",
       " 'zymes']"
      ]
     },
     "execution_count": 75,
     "metadata": {},
     "output_type": "execute_result"
    }
   ],
   "source": [
    "letter_to_words['z']"
   ]
  },
  {
   "cell_type": "code",
   "execution_count": null,
   "id": "1a06bf5c-e585-434c-941f-178a5d44c413",
   "metadata": {},
   "outputs": [],
   "source": [
    "with open('scrabble_words.txt','w') as f"
   ]
  }
 ],
 "metadata": {
  "kernelspec": {
   "display_name": "Python 3",
   "language": "python",
   "name": "python3"
  },
  "language_info": {
   "codemirror_mode": {
    "name": "ipython",
    "version": 3
   },
   "file_extension": ".py",
   "mimetype": "text/x-python",
   "name": "python",
   "nbconvert_exporter": "python",
   "pygments_lexer": "ipython3",
   "version": "3.8.8"
  }
 },
 "nbformat": 4,
 "nbformat_minor": 5
}
